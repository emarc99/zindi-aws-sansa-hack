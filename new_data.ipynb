{
 "cells": [
  {
   "cell_type": "code",
   "execution_count": 1,
   "metadata": {
    "collapsed": true
   },
   "outputs": [],
   "source": [
    "import pandas as pd\n",
    "import numpy as np\n",
    "import geopandas as gpd\n",
    "import rasterio\n",
    "\n",
    "import matplotlib.pyplot as plt\n",
    "%matplotlib inline\n"
   ]
  },
  {
   "cell_type": "code",
   "execution_count": 2,
   "metadata": {
    "collapsed": true
   },
   "outputs": [],
   "source": [
    "gp = gpd.read_file('GP_Informal_settlement2017.shp')"
   ]
  },
  {
   "cell_type": "code",
   "execution_count": 3,
   "metadata": {},
   "outputs": [
    {
     "data": {
      "text/html": [
       "<div>\n",
       "<style scoped>\n",
       "    .dataframe tbody tr th:only-of-type {\n",
       "        vertical-align: middle;\n",
       "    }\n",
       "\n",
       "    .dataframe tbody tr th {\n",
       "        vertical-align: top;\n",
       "    }\n",
       "\n",
       "    .dataframe thead th {\n",
       "        text-align: right;\n",
       "    }\n",
       "</style>\n",
       "<table border=\"1\" class=\"dataframe\">\n",
       "  <thead>\n",
       "    <tr style=\"text-align: right;\">\n",
       "      <th></th>\n",
       "      <th>IS_NAME</th>\n",
       "      <th>Province</th>\n",
       "      <th>District</th>\n",
       "      <th>Imagery</th>\n",
       "      <th>Year</th>\n",
       "      <th>UN_ID</th>\n",
       "      <th>Services</th>\n",
       "      <th>INT_ROAD</th>\n",
       "      <th>INT_RIVER</th>\n",
       "      <th>INT_WETLAN</th>\n",
       "      <th>INT_CAD</th>\n",
       "      <th>MUN_NAME</th>\n",
       "      <th>AREA_SKM</th>\n",
       "      <th>ID</th>\n",
       "      <th>geometry</th>\n",
       "    </tr>\n",
       "  </thead>\n",
       "  <tbody>\n",
       "    <tr>\n",
       "      <th>0</th>\n",
       "      <td>Umthambeka</td>\n",
       "      <td>Gauteng</td>\n",
       "      <td>EKU</td>\n",
       "      <td>SPOT 5 2.5m</td>\n",
       "      <td>2011</td>\n",
       "      <td>EKU_19</td>\n",
       "      <td>NO</td>\n",
       "      <td>NO</td>\n",
       "      <td>NO</td>\n",
       "      <td>NO</td>\n",
       "      <td>YES</td>\n",
       "      <td>Ekurhuleni</td>\n",
       "      <td>0.0</td>\n",
       "      <td>0</td>\n",
       "      <td>POLYGON ((28.19057 -26.02306, 28.19135 -26.022...</td>\n",
       "    </tr>\n",
       "    <tr>\n",
       "      <th>1</th>\n",
       "      <td>Igqagqa</td>\n",
       "      <td>Gauteng</td>\n",
       "      <td>EKU</td>\n",
       "      <td>SPOT 5 2.5m</td>\n",
       "      <td>2011</td>\n",
       "      <td>EKU_30</td>\n",
       "      <td>NO</td>\n",
       "      <td>NO</td>\n",
       "      <td>NO</td>\n",
       "      <td>NO</td>\n",
       "      <td>None</td>\n",
       "      <td>Ekurhuleni</td>\n",
       "      <td>0.0</td>\n",
       "      <td>0</td>\n",
       "      <td>POLYGON ((28.22206 -26.01151, 28.22230 -26.011...</td>\n",
       "    </tr>\n",
       "    <tr>\n",
       "      <th>2</th>\n",
       "      <td>Isekelo</td>\n",
       "      <td>Gauteng</td>\n",
       "      <td>EKU</td>\n",
       "      <td>SPOT 5 2.5m</td>\n",
       "      <td>2011</td>\n",
       "      <td>EKU_31</td>\n",
       "      <td>NO</td>\n",
       "      <td>NO</td>\n",
       "      <td>NO</td>\n",
       "      <td>NO</td>\n",
       "      <td>None</td>\n",
       "      <td>Ekurhuleni</td>\n",
       "      <td>0.0</td>\n",
       "      <td>0</td>\n",
       "      <td>POLYGON ((28.22676 -26.01440, 28.22684 -26.014...</td>\n",
       "    </tr>\n",
       "    <tr>\n",
       "      <th>3</th>\n",
       "      <td>Inxiweni</td>\n",
       "      <td>Gauteng</td>\n",
       "      <td>EKU</td>\n",
       "      <td>SPOT 5 2.5m</td>\n",
       "      <td>2011</td>\n",
       "      <td>EKU_32</td>\n",
       "      <td>NO</td>\n",
       "      <td>NO</td>\n",
       "      <td>NO</td>\n",
       "      <td>NO</td>\n",
       "      <td>None</td>\n",
       "      <td>Ekurhuleni</td>\n",
       "      <td>0.0</td>\n",
       "      <td>0</td>\n",
       "      <td>MULTIPOLYGON (((28.21620 -26.02384, 28.21615 -...</td>\n",
       "    </tr>\n",
       "    <tr>\n",
       "      <th>4</th>\n",
       "      <td>Sophiatown</td>\n",
       "      <td>Gauteng</td>\n",
       "      <td>EKU</td>\n",
       "      <td>SPOT 5 2.5m</td>\n",
       "      <td>2011</td>\n",
       "      <td>EKU_33</td>\n",
       "      <td>NO</td>\n",
       "      <td>NO</td>\n",
       "      <td>NO</td>\n",
       "      <td>NO</td>\n",
       "      <td>None</td>\n",
       "      <td>Ekurhuleni</td>\n",
       "      <td>0.0</td>\n",
       "      <td>0</td>\n",
       "      <td>POLYGON ((28.18576 -26.03505, 28.18697 -26.035...</td>\n",
       "    </tr>\n",
       "    <tr>\n",
       "      <th>...</th>\n",
       "      <td>...</td>\n",
       "      <td>...</td>\n",
       "      <td>...</td>\n",
       "      <td>...</td>\n",
       "      <td>...</td>\n",
       "      <td>...</td>\n",
       "      <td>...</td>\n",
       "      <td>...</td>\n",
       "      <td>...</td>\n",
       "      <td>...</td>\n",
       "      <td>...</td>\n",
       "      <td>...</td>\n",
       "      <td>...</td>\n",
       "      <td>...</td>\n",
       "      <td>...</td>\n",
       "    </tr>\n",
       "    <tr>\n",
       "      <th>347</th>\n",
       "      <td>None</td>\n",
       "      <td>None</td>\n",
       "      <td>None</td>\n",
       "      <td>None</td>\n",
       "      <td>0</td>\n",
       "      <td>None</td>\n",
       "      <td>None</td>\n",
       "      <td>None</td>\n",
       "      <td>None</td>\n",
       "      <td>None</td>\n",
       "      <td>None</td>\n",
       "      <td>None</td>\n",
       "      <td>0.0</td>\n",
       "      <td>0</td>\n",
       "      <td>POLYGON ((28.05956 -25.53133, 28.05944 -25.531...</td>\n",
       "    </tr>\n",
       "    <tr>\n",
       "      <th>348</th>\n",
       "      <td>None</td>\n",
       "      <td>None</td>\n",
       "      <td>None</td>\n",
       "      <td>None</td>\n",
       "      <td>0</td>\n",
       "      <td>None</td>\n",
       "      <td>None</td>\n",
       "      <td>None</td>\n",
       "      <td>None</td>\n",
       "      <td>None</td>\n",
       "      <td>None</td>\n",
       "      <td>None</td>\n",
       "      <td>0.0</td>\n",
       "      <td>0</td>\n",
       "      <td>POLYGON ((28.04468 -25.52984, 28.04503 -25.529...</td>\n",
       "    </tr>\n",
       "    <tr>\n",
       "      <th>349</th>\n",
       "      <td>None</td>\n",
       "      <td>None</td>\n",
       "      <td>None</td>\n",
       "      <td>None</td>\n",
       "      <td>0</td>\n",
       "      <td>None</td>\n",
       "      <td>None</td>\n",
       "      <td>None</td>\n",
       "      <td>None</td>\n",
       "      <td>None</td>\n",
       "      <td>None</td>\n",
       "      <td>None</td>\n",
       "      <td>0.0</td>\n",
       "      <td>0</td>\n",
       "      <td>POLYGON ((28.03766 -25.53672, 28.03532 -25.536...</td>\n",
       "    </tr>\n",
       "    <tr>\n",
       "      <th>350</th>\n",
       "      <td>None</td>\n",
       "      <td>None</td>\n",
       "      <td>None</td>\n",
       "      <td>None</td>\n",
       "      <td>0</td>\n",
       "      <td>None</td>\n",
       "      <td>None</td>\n",
       "      <td>None</td>\n",
       "      <td>None</td>\n",
       "      <td>None</td>\n",
       "      <td>None</td>\n",
       "      <td>None</td>\n",
       "      <td>0.0</td>\n",
       "      <td>0</td>\n",
       "      <td>POLYGON ((28.02550 -25.55980, 28.02575 -25.558...</td>\n",
       "    </tr>\n",
       "    <tr>\n",
       "      <th>351</th>\n",
       "      <td>None</td>\n",
       "      <td>None</td>\n",
       "      <td>None</td>\n",
       "      <td>None</td>\n",
       "      <td>0</td>\n",
       "      <td>None</td>\n",
       "      <td>None</td>\n",
       "      <td>None</td>\n",
       "      <td>None</td>\n",
       "      <td>None</td>\n",
       "      <td>None</td>\n",
       "      <td>None</td>\n",
       "      <td>0.0</td>\n",
       "      <td>0</td>\n",
       "      <td>POLYGON ((28.10668 -26.08845, 28.10673 -26.088...</td>\n",
       "    </tr>\n",
       "  </tbody>\n",
       "</table>\n",
       "<p>352 rows × 15 columns</p>\n",
       "</div>"
      ],
      "text/plain": [
       "        IS_NAME Province District      Imagery  Year   UN_ID Services  \\\n",
       "0    Umthambeka  Gauteng      EKU  SPOT 5 2.5m  2011  EKU_19       NO   \n",
       "1       Igqagqa  Gauteng      EKU  SPOT 5 2.5m  2011  EKU_30       NO   \n",
       "2       Isekelo  Gauteng      EKU  SPOT 5 2.5m  2011  EKU_31       NO   \n",
       "3      Inxiweni  Gauteng      EKU  SPOT 5 2.5m  2011  EKU_32       NO   \n",
       "4    Sophiatown  Gauteng      EKU  SPOT 5 2.5m  2011  EKU_33       NO   \n",
       "..          ...      ...      ...          ...   ...     ...      ...   \n",
       "347        None     None     None         None     0    None     None   \n",
       "348        None     None     None         None     0    None     None   \n",
       "349        None     None     None         None     0    None     None   \n",
       "350        None     None     None         None     0    None     None   \n",
       "351        None     None     None         None     0    None     None   \n",
       "\n",
       "    INT_ROAD INT_RIVER INT_WETLAN INT_CAD    MUN_NAME  AREA_SKM  ID  \\\n",
       "0         NO        NO         NO     YES  Ekurhuleni       0.0   0   \n",
       "1         NO        NO         NO    None  Ekurhuleni       0.0   0   \n",
       "2         NO        NO         NO    None  Ekurhuleni       0.0   0   \n",
       "3         NO        NO         NO    None  Ekurhuleni       0.0   0   \n",
       "4         NO        NO         NO    None  Ekurhuleni       0.0   0   \n",
       "..       ...       ...        ...     ...         ...       ...  ..   \n",
       "347     None      None       None    None        None       0.0   0   \n",
       "348     None      None       None    None        None       0.0   0   \n",
       "349     None      None       None    None        None       0.0   0   \n",
       "350     None      None       None    None        None       0.0   0   \n",
       "351     None      None       None    None        None       0.0   0   \n",
       "\n",
       "                                              geometry  \n",
       "0    POLYGON ((28.19057 -26.02306, 28.19135 -26.022...  \n",
       "1    POLYGON ((28.22206 -26.01151, 28.22230 -26.011...  \n",
       "2    POLYGON ((28.22676 -26.01440, 28.22684 -26.014...  \n",
       "3    MULTIPOLYGON (((28.21620 -26.02384, 28.21615 -...  \n",
       "4    POLYGON ((28.18576 -26.03505, 28.18697 -26.035...  \n",
       "..                                                 ...  \n",
       "347  POLYGON ((28.05956 -25.53133, 28.05944 -25.531...  \n",
       "348  POLYGON ((28.04468 -25.52984, 28.04503 -25.529...  \n",
       "349  POLYGON ((28.03766 -25.53672, 28.03532 -25.536...  \n",
       "350  POLYGON ((28.02550 -25.55980, 28.02575 -25.558...  \n",
       "351  POLYGON ((28.10668 -26.08845, 28.10673 -26.088...  \n",
       "\n",
       "[352 rows x 15 columns]"
      ]
     },
     "execution_count": 3,
     "metadata": {},
     "output_type": "execute_result"
    }
   ],
   "source": [
    "gp"
   ]
  },
  {
   "cell_type": "code",
   "execution_count": 4,
   "metadata": {},
   "outputs": [
    {
     "data": {
      "text/plain": [
       "<matplotlib.axes._subplots.AxesSubplot at 0x7fac827ca128>"
      ]
     },
     "execution_count": 4,
     "metadata": {},
     "output_type": "execute_result"
    },
    {
     "data": {
      "image/png": "[encoded data removed]",
      "text/plain": [
       "<Figure size 432x432 with 1 Axes>"
      ]
     },
     "metadata": {
      "needs_background": "light"
     },
     "output_type": "display_data"
    }
   ],
   "source": [
    "gp.plot(figsize=(6, 6))"
   ]
  },
  {
   "cell_type": "code",
   "execution_count": 5,
   "metadata": {},
   "outputs": [
    {
     "data": {
      "text/plain": [
       "<matplotlib.axes._subplots.AxesSubplot at 0x7fac827902e8>"
      ]
     },
     "execution_count": 5,
     "metadata": {},
     "output_type": "execute_result"
    },
    {
     "data": {
      "image/png": "[encoded data removed]",
      "text/plain": [
       "<Figure size 720x720 with 1 Axes>"
      ]
     },
     "metadata": {
      "needs_background": "light"
     },
     "output_type": "display_data"
    }
   ],
   "source": [
    "from shapely.geometry import Polygon, Point\n",
    "\n",
    "# Clipping to the extent of our raster (Which happens to contain lots of informal setlements)\n",
    "lat_point_list = [-26, -25.5, -25.5, -26]\n",
    "lon_point_list = [28, 28, 28.5, 28.5]\n",
    "polygon_geom = Polygon(zip(lon_point_list, lat_point_list))\n",
    "roi = gpd.GeoDataFrame(index=[0], crs='epsg:4326', geometry=[polygon_geom])       \n",
    "gp = gpd.clip(gp, roi)\n",
    "gp.plot(figsize=(10, 10))"
   ]
  },
  {
   "cell_type": "code",
   "execution_count": 6,
   "metadata": {
    "collapsed": true
   },
   "outputs": [],
   "source": [
    "import numpy as np"
   ]
  },
  {
   "cell_type": "code",
   "execution_count": null,
   "metadata": {
    "collapsed": true
   },
   "outputs": [],
   "source": []
  },
  {
   "cell_type": "code",
   "execution_count": 7,
   "metadata": {},
   "outputs": [
    {
     "data": {
      "text/html": [
       "<div>\n",
       "<style scoped>\n",
       "    .dataframe tbody tr th:only-of-type {\n",
       "        vertical-align: middle;\n",
       "    }\n",
       "\n",
       "    .dataframe tbody tr th {\n",
       "        vertical-align: top;\n",
       "    }\n",
       "\n",
       "    .dataframe thead th {\n",
       "        text-align: right;\n",
       "    }\n",
       "</style>\n",
       "<table border=\"1\" class=\"dataframe\">\n",
       "  <thead>\n",
       "    <tr style=\"text-align: right;\">\n",
       "      <th></th>\n",
       "      <th>LAT</th>\n",
       "      <th>LON</th>\n",
       "      <th>Label</th>\n",
       "    </tr>\n",
       "  </thead>\n",
       "  <tbody>\n",
       "    <tr>\n",
       "      <th>75371</th>\n",
       "      <td>-25.596224</td>\n",
       "      <td>28.094925</td>\n",
       "      <td>False</td>\n",
       "    </tr>\n",
       "    <tr>\n",
       "      <th>96725</th>\n",
       "      <td>-25.586162</td>\n",
       "      <td>28.375341</td>\n",
       "      <td>False</td>\n",
       "    </tr>\n",
       "    <tr>\n",
       "      <th>88765</th>\n",
       "      <td>-25.723509</td>\n",
       "      <td>28.061852</td>\n",
       "      <td>False</td>\n",
       "    </tr>\n",
       "    <tr>\n",
       "      <th>11092</th>\n",
       "      <td>-25.964627</td>\n",
       "      <td>28.174756</td>\n",
       "      <td>False</td>\n",
       "    </tr>\n",
       "    <tr>\n",
       "      <th>56142</th>\n",
       "      <td>-25.875167</td>\n",
       "      <td>28.291668</td>\n",
       "      <td>False</td>\n",
       "    </tr>\n",
       "    <tr>\n",
       "      <th>71241</th>\n",
       "      <td>-25.908732</td>\n",
       "      <td>28.157205</td>\n",
       "      <td>False</td>\n",
       "    </tr>\n",
       "    <tr>\n",
       "      <th>80165</th>\n",
       "      <td>-25.829844</td>\n",
       "      <td>28.006063</td>\n",
       "      <td>False</td>\n",
       "    </tr>\n",
       "    <tr>\n",
       "      <th>88367</th>\n",
       "      <td>-25.569389</td>\n",
       "      <td>28.121605</td>\n",
       "      <td>False</td>\n",
       "    </tr>\n",
       "    <tr>\n",
       "      <th>25237</th>\n",
       "      <td>-25.635491</td>\n",
       "      <td>28.319918</td>\n",
       "      <td>False</td>\n",
       "    </tr>\n",
       "    <tr>\n",
       "      <th>5632</th>\n",
       "      <td>-25.801120</td>\n",
       "      <td>28.341307</td>\n",
       "      <td>False</td>\n",
       "    </tr>\n",
       "  </tbody>\n",
       "</table>\n",
       "</div>"
      ],
      "text/plain": [
       "             LAT        LON  Label\n",
       "75371 -25.596224  28.094925  False\n",
       "96725 -25.586162  28.375341  False\n",
       "88765 -25.723509  28.061852  False\n",
       "11092 -25.964627  28.174756  False\n",
       "56142 -25.875167  28.291668  False\n",
       "71241 -25.908732  28.157205  False\n",
       "80165 -25.829844  28.006063  False\n",
       "88367 -25.569389  28.121605  False\n",
       "25237 -25.635491  28.319918  False\n",
       "5632  -25.801120  28.341307  False"
      ]
     },
     "execution_count": 7,
     "metadata": {},
     "output_type": "execute_result"
    }
   ],
   "source": [
    "lats = []\n",
    "lons = []\n",
    "labels = []\n",
    "np.random.seed(4)\n",
    "for i in range(100000):\n",
    "    lon = 28 + np.random.random()*0.5\n",
    "    lat = -26 + np.random.random()*0.5\n",
    "    p = Point(lon, lat)\n",
    "    IN = False\n",
    "    for geom in gp.geometry:\n",
    "        if p.within(geom):\n",
    "            IN = True\n",
    "    lats.append(lat)\n",
    "    lons.append(lon)\n",
    "    labels.append(IN)\n",
    "ls = pd.DataFrame({\n",
    "    'LAT':lats,\n",
    "    'LON':lons,\n",
    "    'Label':labels\n",
    "})\n",
    "ls.sample(10)"
   ]
  },
  {
   "cell_type": "code",
   "execution_count": 8,
   "metadata": {},
   "outputs": [
    {
     "data": {
      "text/plain": [
       "False    98835\n",
       "True      1165\n",
       "Name: Label, dtype: int64"
      ]
     },
     "execution_count": 8,
     "metadata": {},
     "output_type": "execute_result"
    }
   ],
   "source": [
    "ls['Label'].value_counts()"
   ]
  },
  {
   "cell_type": "code",
   "execution_count": 9,
   "metadata": {},
   "outputs": [
    {
     "data": {
      "text/html": [
       "<div>\n",
       "<style scoped>\n",
       "    .dataframe tbody tr th:only-of-type {\n",
       "        vertical-align: middle;\n",
       "    }\n",
       "\n",
       "    .dataframe tbody tr th {\n",
       "        vertical-align: top;\n",
       "    }\n",
       "\n",
       "    .dataframe thead th {\n",
       "        text-align: right;\n",
       "    }\n",
       "</style>\n",
       "<table border=\"1\" class=\"dataframe\">\n",
       "  <thead>\n",
       "    <tr style=\"text-align: right;\">\n",
       "      <th></th>\n",
       "      <th>LAT</th>\n",
       "      <th>LON</th>\n",
       "      <th>Label</th>\n",
       "    </tr>\n",
       "  </thead>\n",
       "  <tbody>\n",
       "    <tr>\n",
       "      <th>0</th>\n",
       "      <td>-25.726384</td>\n",
       "      <td>28.483515</td>\n",
       "      <td>False</td>\n",
       "    </tr>\n",
       "    <tr>\n",
       "      <th>1</th>\n",
       "      <td>-25.642592</td>\n",
       "      <td>28.486342</td>\n",
       "      <td>False</td>\n",
       "    </tr>\n",
       "    <tr>\n",
       "      <th>2</th>\n",
       "      <td>-25.891955</td>\n",
       "      <td>28.348864</td>\n",
       "      <td>False</td>\n",
       "    </tr>\n",
       "    <tr>\n",
       "      <th>3</th>\n",
       "      <td>-25.996885</td>\n",
       "      <td>28.488137</td>\n",
       "      <td>False</td>\n",
       "    </tr>\n",
       "    <tr>\n",
       "      <th>4</th>\n",
       "      <td>-25.782604</td>\n",
       "      <td>28.126491</td>\n",
       "      <td>False</td>\n",
       "    </tr>\n",
       "    <tr>\n",
       "      <th>...</th>\n",
       "      <td>...</td>\n",
       "      <td>...</td>\n",
       "      <td>...</td>\n",
       "    </tr>\n",
       "    <tr>\n",
       "      <th>99995</th>\n",
       "      <td>-25.789340</td>\n",
       "      <td>28.279492</td>\n",
       "      <td>False</td>\n",
       "    </tr>\n",
       "    <tr>\n",
       "      <th>99996</th>\n",
       "      <td>-25.960691</td>\n",
       "      <td>28.100996</td>\n",
       "      <td>False</td>\n",
       "    </tr>\n",
       "    <tr>\n",
       "      <th>99997</th>\n",
       "      <td>-25.836276</td>\n",
       "      <td>28.151746</td>\n",
       "      <td>False</td>\n",
       "    </tr>\n",
       "    <tr>\n",
       "      <th>99998</th>\n",
       "      <td>-25.739620</td>\n",
       "      <td>28.207981</td>\n",
       "      <td>False</td>\n",
       "    </tr>\n",
       "    <tr>\n",
       "      <th>99999</th>\n",
       "      <td>-25.625677</td>\n",
       "      <td>28.310724</td>\n",
       "      <td>False</td>\n",
       "    </tr>\n",
       "  </tbody>\n",
       "</table>\n",
       "<p>100000 rows × 3 columns</p>\n",
       "</div>"
      ],
      "text/plain": [
       "             LAT        LON  Label\n",
       "0     -25.726384  28.483515  False\n",
       "1     -25.642592  28.486342  False\n",
       "2     -25.891955  28.348864  False\n",
       "3     -25.996885  28.488137  False\n",
       "4     -25.782604  28.126491  False\n",
       "...          ...        ...    ...\n",
       "99995 -25.789340  28.279492  False\n",
       "99996 -25.960691  28.100996  False\n",
       "99997 -25.836276  28.151746  False\n",
       "99998 -25.739620  28.207981  False\n",
       "99999 -25.625677  28.310724  False\n",
       "\n",
       "[100000 rows x 3 columns]"
      ]
     },
     "execution_count": 9,
     "metadata": {},
     "output_type": "execute_result"
    }
   ],
   "source": [
    "ls"
   ]
  },
  {
   "cell_type": "code",
   "execution_count": 10,
   "metadata": {},
   "outputs": [
    {
     "data": {
      "text/html": [
       "<div>\n",
       "<style scoped>\n",
       "    .dataframe tbody tr th:only-of-type {\n",
       "        vertical-align: middle;\n",
       "    }\n",
       "\n",
       "    .dataframe tbody tr th {\n",
       "        vertical-align: top;\n",
       "    }\n",
       "\n",
       "    .dataframe thead th {\n",
       "        text-align: right;\n",
       "    }\n",
       "</style>\n",
       "<table border=\"1\" class=\"dataframe\">\n",
       "  <thead>\n",
       "    <tr style=\"text-align: right;\">\n",
       "      <th></th>\n",
       "      <th>LAT</th>\n",
       "      <th>LON</th>\n",
       "      <th>Label</th>\n",
       "    </tr>\n",
       "  </thead>\n",
       "  <tbody>\n",
       "    <tr>\n",
       "      <th>77</th>\n",
       "      <td>-25.585291</td>\n",
       "      <td>28.044386</td>\n",
       "      <td>True</td>\n",
       "    </tr>\n",
       "    <tr>\n",
       "      <th>115</th>\n",
       "      <td>-25.711384</td>\n",
       "      <td>28.433062</td>\n",
       "      <td>True</td>\n",
       "    </tr>\n",
       "    <tr>\n",
       "      <th>223</th>\n",
       "      <td>-25.847829</td>\n",
       "      <td>28.097199</td>\n",
       "      <td>True</td>\n",
       "    </tr>\n",
       "    <tr>\n",
       "      <th>312</th>\n",
       "      <td>-25.930931</td>\n",
       "      <td>28.015946</td>\n",
       "      <td>True</td>\n",
       "    </tr>\n",
       "    <tr>\n",
       "      <th>328</th>\n",
       "      <td>-25.760903</td>\n",
       "      <td>28.432071</td>\n",
       "      <td>True</td>\n",
       "    </tr>\n",
       "    <tr>\n",
       "      <th>...</th>\n",
       "      <td>...</td>\n",
       "      <td>...</td>\n",
       "      <td>...</td>\n",
       "    </tr>\n",
       "    <tr>\n",
       "      <th>99689</th>\n",
       "      <td>-25.598428</td>\n",
       "      <td>28.077497</td>\n",
       "      <td>True</td>\n",
       "    </tr>\n",
       "    <tr>\n",
       "      <th>99694</th>\n",
       "      <td>-25.727631</td>\n",
       "      <td>28.441868</td>\n",
       "      <td>True</td>\n",
       "    </tr>\n",
       "    <tr>\n",
       "      <th>99748</th>\n",
       "      <td>-25.583780</td>\n",
       "      <td>28.033908</td>\n",
       "      <td>True</td>\n",
       "    </tr>\n",
       "    <tr>\n",
       "      <th>99970</th>\n",
       "      <td>-25.768984</td>\n",
       "      <td>28.040656</td>\n",
       "      <td>True</td>\n",
       "    </tr>\n",
       "    <tr>\n",
       "      <th>99976</th>\n",
       "      <td>-25.574120</td>\n",
       "      <td>28.034526</td>\n",
       "      <td>True</td>\n",
       "    </tr>\n",
       "  </tbody>\n",
       "</table>\n",
       "<p>1165 rows × 3 columns</p>\n",
       "</div>"
      ],
      "text/plain": [
       "             LAT        LON  Label\n",
       "77    -25.585291  28.044386   True\n",
       "115   -25.711384  28.433062   True\n",
       "223   -25.847829  28.097199   True\n",
       "312   -25.930931  28.015946   True\n",
       "328   -25.760903  28.432071   True\n",
       "...          ...        ...    ...\n",
       "99689 -25.598428  28.077497   True\n",
       "99694 -25.727631  28.441868   True\n",
       "99748 -25.583780  28.033908   True\n",
       "99970 -25.768984  28.040656   True\n",
       "99976 -25.574120  28.034526   True\n",
       "\n",
       "[1165 rows x 3 columns]"
      ]
     },
     "execution_count": 10,
     "metadata": {},
     "output_type": "execute_result"
    }
   ],
   "source": [
    "ls[ls['Label'] == True]"
   ]
  },
  {
   "cell_type": "code",
   "execution_count": 56,
   "metadata": {
    "collapsed": true
   },
   "outputs": [],
   "source": [
    "np.random.seed(7)\n",
    "false_lats = []\n",
    "false_lons = []\n",
    "false_labels = []\n",
    "for row in ls[ls['Label'] == True].iterrows():\n",
    "    lat = row[1]['LAT']\n",
    "    lon = row[1]['LON']\n",
    "    for j in range(3):\n",
    "        false_lon = lon + np.random.random()*0.2\n",
    "        false_lat = lat + np.random.random()*0.2\n",
    "        p = Point(false_lon, false_lat)\n",
    "        IN = False\n",
    "        for geom in gp.geometry:\n",
    "            if p.within(geom):\n",
    "                IN = True\n",
    "        if IN == False:\n",
    "            false_lats.append(lat)\n",
    "            false_lons.append(lon)\n",
    "            false_labels.append(IN)"
   ]
  },
  {
   "cell_type": "code",
   "execution_count": 57,
   "metadata": {
    "collapsed": true
   },
   "outputs": [],
   "source": [
    "false_ls = pd.DataFrame({\n",
    "    'LAT':false_lats,\n",
    "    'LON':false_lons,\n",
    "    'Label':false_labels\n",
    "})"
   ]
  },
  {
   "cell_type": "code",
   "execution_count": 58,
   "metadata": {
    "collapsed": true
   },
   "outputs": [],
   "source": [
    "new_df = pd.concat([ls[ls['Label'] == True], false_ls])"
   ]
  },
  {
   "cell_type": "code",
   "execution_count": 59,
   "metadata": {},
   "outputs": [
    {
     "data": {
      "text/plain": [
       "False    3471\n",
       "True     1165\n",
       "Name: Label, dtype: int64"
      ]
     },
     "execution_count": 59,
     "metadata": {},
     "output_type": "execute_result"
    }
   ],
   "source": [
    "new_df['Label'].value_counts()"
   ]
  },
  {
   "cell_type": "code",
   "execution_count": 74,
   "metadata": {},
   "outputs": [
    {
     "data": {
      "text/plain": [
       "3495"
      ]
     },
     "execution_count": 74,
     "metadata": {},
     "output_type": "execute_result"
    }
   ],
   "source": [
    "1165*3"
   ]
  },
  {
   "cell_type": "code",
   "execution_count": 60,
   "metadata": {
    "collapsed": true
   },
   "outputs": [],
   "source": [
    "new_df['Label'] *= 1"
   ]
  },
  {
   "cell_type": "code",
   "execution_count": 61,
   "metadata": {
    "collapsed": true
   },
   "outputs": [],
   "source": [
    "new_gdf = gpd.GeoDataFrame(new_df, geometry = gpd.points_from_xy(new_df.LON, new_df.LAT))"
   ]
  },
  {
   "cell_type": "code",
   "execution_count": null,
   "metadata": {
    "collapsed": true
   },
   "outputs": [],
   "source": [
    "new_gdf.plot()"
   ]
  },
  {
   "cell_type": "code",
   "execution_count": 66,
   "metadata": {},
   "outputs": [
    {
     "data": {
      "text/plain": [
       "<matplotlib.axes._subplots.AxesSubplot at 0x7fac7d5997f0>"
      ]
     },
     "execution_count": 66,
     "metadata": {},
     "output_type": "execute_result"
    },
    {
     "data": {
      "text/plain": [
       "<Figure size 864x864 with 0 Axes>"
      ]
     },
     "metadata": {},
     "output_type": "display_data"
    },
    {
     "data": {
      "image/png": "[encoded data removed]",
      "text/plain": [
       "<Figure size 864x864 with 1 Axes>"
      ]
     },
     "metadata": {
      "needs_background": "light"
     },
     "output_type": "display_data"
    }
   ],
   "source": [
    "plt.figure(figsize=(12, 12))\n",
    "new_gdf.sample(frac = 1, random_state=2).plot(column = 'Label', categorical=True, legend=True, figsize=(12, 12))\n",
    "# plt.legend()"
   ]
  },
  {
   "cell_type": "code",
   "execution_count": 69,
   "metadata": {
    "collapsed": true
   },
   "outputs": [],
   "source": [
    "new_gdf = new_gdf.sample(frac=1, random_state=2)"
   ]
  },
  {
   "cell_type": "code",
   "execution_count": 72,
   "metadata": {
    "collapsed": true
   },
   "outputs": [],
   "source": [
    "new_gdf['ID'] = np.arange(0, len(new_gdf))\n",
    "new_gdf['ID'] = new_gdf['ID'].astype('str')"
   ]
  },
  {
   "cell_type": "code",
   "execution_count": 73,
   "metadata": {
    "collapsed": true
   },
   "outputs": [],
   "source": [
    "new_gdf[['ID', 'LAT', 'LON', 'Label']].to_csv('diff_data.csv', index=False)"
   ]
  }
 ],
 "metadata": {
  "kernelspec": {
   "display_name": "Python 3",
   "language": "python",
   "name": "python3"
  },
  "language_info": {
   "codemirror_mode": {
    "name": "ipython",
    "version": 3
   },
   "file_extension": ".py",
   "mimetype": "text/x-python",
   "name": "python",
   "nbconvert_exporter": "python",
   "pygments_lexer": "ipython3",
   "version": "3.6.3"
  }
 },
 "nbformat": 4,
 "nbformat_minor": 4
}
